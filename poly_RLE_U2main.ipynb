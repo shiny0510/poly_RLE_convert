{
 "cells": [
  {
   "cell_type": "code",
   "execution_count": null,
   "metadata": {},
   "outputs": [],
   "source": [
    "!mkdir ./U2-net/inputdata"
   ]
  },
  {
   "attachments": {},
   "cell_type": "markdown",
   "metadata": {},
   "source": [
    "# Data 설명 "
   ]
  },
  {
   "attachments": {},
   "cell_type": "markdown",
   "metadata": {},
   "source": [
    "./U2-net/inputdata/train폴더안에 인풋 이미지들을 넣어 주시면됩니다.\n",
    "\n",
    "./ 경로에 json 파일 넣어주시면 됩니다."
   ]
  },
  {
   "attachments": {},
   "cell_type": "markdown",
   "metadata": {},
   "source": [
    "# 1. json -> csv 컨버터"
   ]
  },
  {
   "cell_type": "code",
   "execution_count": 165,
   "metadata": {},
   "outputs": [],
   "source": [
    "import json\n",
    "import numpy as np\n",
    "import cv2\n",
    "from PIL import Image\n",
    "import pandas as pd\n",
    "\n",
    "with open(\"labels_my-project-name.json\", \"r\") as st_json:\n",
    "    data = json.load(st_json)\n"
   ]
  },
  {
   "cell_type": "code",
   "execution_count": 166,
   "metadata": {},
   "outputs": [],
   "source": [
    "imageid = []\n",
    "width = []\n",
    "height = []\n",
    "classid = []\n",
    "rle = []\n",
    "sdict = {}\n",
    "\n",
    "for i in range(len(data['annotations'])):\n",
    "    imageid.append(data['images'][i]['file_name'])\n",
    "    width.append(data['images'][i]['width'])\n",
    "    height.append( data['images'][i]['height'])\n",
    "    classid.append(data[\"annotations\"][i]['category_id'])\n",
    "\n",
    "\n",
    "    segmentation_points = data[\"annotations\"][i][\"segmentation\"][0]\n",
    "    bbox = data[\"annotations\"][i][\"bbox\"]\n",
    "    segmentation_array = np.array(segmentation_points).reshape((-1, 2)).astype(np.int32)\n",
    "    image_width = data[\"images\"][i][\"width\"]\n",
    "    image_height = data[\"images\"][i][\"height\"]\n",
    "    canvas = np.zeros((image_height, image_width), dtype=np.uint8)\n",
    "    cv2.fillPoly(canvas, [segmentation_array], color=(255, 255, 255))\n",
    "    output_file_name = \"segmentation_image.jpg\"\n",
    "    cv2.imwrite(output_file_name, canvas)\n",
    "    \n",
    "    def binarize_image(image):\n",
    "        \n",
    "        grayscale_image = image.convert('L')\n",
    "        \n",
    "        threshold = 128  \n",
    "        binary_image = grayscale_image.point(lambda x: 0 if x < threshold else 255, '1')\n",
    "        return binary_image\n",
    "    def run_length_encode(mask):\n",
    "        rle = []\n",
    "        count = 0\n",
    "        is_running = False\n",
    "       \n",
    "        for pixel in mask.getdata():\n",
    "            if pixel == 255:  \n",
    "                if not is_running:\n",
    "                    start = count + 1 \n",
    "                    is_running = True\n",
    "            else:\n",
    "                if is_running:\n",
    "                    length = count - start + 1 \n",
    "                    rle.append((start, length))\n",
    "                    is_running = False\n",
    "            count += 1\n",
    "        if is_running:\n",
    "            length = count - start + 1\n",
    "            rle.append((start, length))\n",
    "        return rle\n",
    "    def run_length_decode(rle, mask_shape):\n",
    "        mask = Image.new('L', mask_shape)\n",
    "        for start, length in rle:\n",
    "            for i in range(length):\n",
    "                x = (start + i) % mask_shape[0]\n",
    "                y = (start + i) // mask_shape[0]\n",
    "                mask.putpixel((x, y), 255)  \n",
    "        return mask\n",
    "    image = Image.open('segmentation_image.jpg')\n",
    "    binary_image = binarize_image(image)\n",
    "    rle_encoded = run_length_encode(binary_image)\n",
    "    rle_encoded = ' '.join([' '.join([str(i[0]),str(i[1])]) for i in rle_encoded])\n",
    "    rle.append(rle_encoded)"
   ]
  },
  {
   "cell_type": "code",
   "execution_count": 170,
   "metadata": {},
   "outputs": [],
   "source": [
    "import pandas as pd\n",
    "\n",
    "f = pd.DataFrame({'ImageId':imageid,\n",
    "                    'EncodedPixels': rle,\n",
    "                    'Width':width, \n",
    "                    'Height':height, \n",
    "                    'ClassId':classid})\n",
    "\n",
    "f.to_csv(\"./U2-net/inputdata/train.csv\",index=False)"
   ]
  },
  {
   "attachments": {},
   "cell_type": "markdown",
   "metadata": {},
   "source": [
    "# 아래부터는 정리 코드"
   ]
  },
  {
   "cell_type": "code",
   "execution_count": 6,
   "metadata": {},
   "outputs": [],
   "source": [
    "# torch 설치\n",
    "# !conda install pytorch==1.13.1 torchvision==0.14.1 torchaudio==0.13.1 pytorch-cuda=11.7 -c pytorch -c nvidia -y"
   ]
  },
  {
   "cell_type": "code",
   "execution_count": 4,
   "metadata": {},
   "outputs": [
    {
     "name": "stdout",
     "output_type": "stream",
     "text": [
      "Collecting package metadata (current_repodata.json): done\n",
      "Solving environment: done\n",
      "\n",
      "\n",
      "==> WARNING: A newer version of conda exists. <==\n",
      "  current version: 22.9.0\n",
      "  latest version: 23.3.1\n",
      "\n",
      "Please update conda by running\n",
      "\n",
      "    $ conda update -n base -c defaults conda\n",
      "\n",
      "\n",
      "\n",
      "## Package Plan ##\n",
      "\n",
      "  environment location: /home/ohseunghwan/anaconda3/envs/soomgo\n",
      "\n",
      "  added / updated specs:\n",
      "    - git\n",
      "\n",
      "\n",
      "The following packages will be downloaded:\n",
      "\n",
      "    package                    |            build\n",
      "    ---------------------------|-----------------\n",
      "    curl-7.88.1                |       h5eee18b_0          88 KB\n",
      "    gdbm-1.18                  |       hd4cb3f1_4         194 KB\n",
      "    gettext-0.21.0             |       h39681ba_1         3.0 MB\n",
      "    git-2.34.1                 | pl5262hc120c5b_0         6.0 MB\n",
      "    libxml2-2.10.3             |       hcbfbd50_0         755 KB\n",
      "    pcre2-10.37                |       he7ceb23_1         839 KB\n",
      "    perl-5.34.0                |       h5eee18b_2        12.4 MB\n",
      "    ------------------------------------------------------------\n",
      "                                           Total:        23.3 MB\n",
      "\n",
      "The following NEW packages will be INSTALLED:\n",
      "\n",
      "  bzip2              pkgs/main/linux-64::bzip2-1.0.8-h7b6447c_0 None\n",
      "  c-ares             pkgs/main/linux-64::c-ares-1.19.0-h5eee18b_0 None\n",
      "  curl               pkgs/main/linux-64::curl-7.88.1-h5eee18b_0 None\n",
      "  expat              pkgs/main/linux-64::expat-2.4.9-h6a678d5_0 None\n",
      "  gdbm               pkgs/main/linux-64::gdbm-1.18-hd4cb3f1_4 None\n",
      "  gettext            pkgs/main/linux-64::gettext-0.21.0-h39681ba_1 None\n",
      "  git                pkgs/main/linux-64::git-2.34.1-pl5262hc120c5b_0 None\n",
      "  icu                pkgs/main/linux-64::icu-58.2-he6710b0_3 None\n",
      "  krb5               pkgs/main/linux-64::krb5-1.19.4-h568e23c_0 None\n",
      "  libcurl            pkgs/main/linux-64::libcurl-7.88.1-h91b91d3_0 None\n",
      "  libedit            pkgs/main/linux-64::libedit-3.1.20221030-h5eee18b_0 None\n",
      "  libev              pkgs/main/linux-64::libev-4.33-h7f8727e_1 None\n",
      "  libnghttp2         pkgs/main/linux-64::libnghttp2-1.46.0-hce63b2e_0 None\n",
      "  libssh2            pkgs/main/linux-64::libssh2-1.10.0-h8f2d780_0 None\n",
      "  libxml2            pkgs/main/linux-64::libxml2-2.10.3-hcbfbd50_0 None\n",
      "  pcre2              pkgs/main/linux-64::pcre2-10.37-he7ceb23_1 None\n",
      "  perl               pkgs/main/linux-64::perl-5.34.0-h5eee18b_2 None\n",
      "\n",
      "\n",
      "\n",
      "Downloading and Extracting Packages\n",
      "libxml2-2.10.3       | 755 KB    | ##################################### | 100% \n",
      "gdbm-1.18            | 194 KB    | ##################################### | 100% \n",
      "curl-7.88.1          | 88 KB     | ##################################### | 100% \n",
      "perl-5.34.0          | 12.4 MB   | ##################################### | 100% \n",
      "git-2.34.1           | 6.0 MB    | ##################################### | 100% \n",
      "gettext-0.21.0       | 3.0 MB    | ##################################### | 100% \n",
      "pcre2-10.37          | 839 KB    | ##################################### | 100% \n",
      "Preparing transaction: done\n",
      "Verifying transaction: done\n",
      "Executing transaction: done\n",
      "Retrieving notices: ...working... done\n"
     ]
    }
   ],
   "source": [
    "# git 설치\n",
    "!conda install git -y"
   ]
  },
  {
   "cell_type": "code",
   "execution_count": 1,
   "metadata": {},
   "outputs": [
    {
     "name": "stdout",
     "output_type": "stream",
     "text": [
      "Cloning into 'U2-net'...\n",
      "remote: Enumerating objects: 57, done.\u001b[K\n",
      "remote: Counting objects: 100% (57/57), done.\u001b[K\n",
      "remote: Compressing objects: 100% (53/53), done.\u001b[K\n",
      "remote: Total 57 (delta 3), reused 56 (delta 2), pack-reused 0\u001b[K\n",
      "Receiving objects: 100% (57/57), 2.40 MiB | 5.37 MiB/s, done.\n",
      "Resolving deltas: 100% (3/3), done.\n"
     ]
    }
   ],
   "source": [
    "!git clone https://github.com/shiny0510/U2-net.git"
   ]
  },
  {
   "cell_type": "code",
   "execution_count": 29,
   "metadata": {},
   "outputs": [
    {
     "name": "stdout",
     "output_type": "stream",
     "text": [
      "Collecting pyyaml\n",
      "  Using cached PyYAML-6.0-cp38-cp38-manylinux_2_5_x86_64.manylinux1_x86_64.manylinux_2_12_x86_64.manylinux2010_x86_64.whl (701 kB)\n",
      "Installing collected packages: pyyaml\n",
      "Successfully installed pyyaml-6.0\n"
     ]
    }
   ],
   "source": [
    "!pip install pyyaml\n",
    "!pip install opencv-python\n",
    "!conda install tensorboard\n",
    "!pip install pandas"
   ]
  },
  {
   "attachments": {},
   "cell_type": "markdown",
   "metadata": {},
   "source": [
    "### U2-net/inputdata/train 경로안에 이미지 데이터와 \n",
    "\n",
    "### U2-net/inputdata/train.csv를 만드셨다면, 그냥 돌리시면 됩니다"
   ]
  },
  {
   "cell_type": "code",
   "execution_count": 176,
   "metadata": {},
   "outputs": [
    {
     "name": "stdout",
     "output_type": "stream",
     "text": [
      "name training_cloth_segm_u2net_exp1\n",
      "image_folder ./cloth-segmentation/inputdata/train/\n",
      "df_path ./cloth-segmentation/inputdata/train.csv\n",
      "distributed False\n",
      "isTrain True\n",
      "fine_width 768\n",
      "fine_height 768\n",
      "mean 0.5\n",
      "std 0.5\n",
      "batchSize 2\n",
      "nThreads 2\n",
      "max_dataset_size inf\n",
      "serial_batches False\n",
      "continue_train False\n",
      "save_freq 1000\n",
      "print_freq 10\n",
      "image_log_freq 100\n",
      "iter 100000\n",
      "lr 0.0002\n",
      "clip_grad 5\n",
      "logs_dir logs/training_cloth_segm_u2net_exp1\n",
      "save_dir results/training_cloth_segm_u2net_exp1\n",
      "cuda:0\n",
      "dataset [AlignedDataset] was created\n",
      "100%|████████████████████████████████████████| 50/50 [00:00<00:00, 12529.29it/s]\n",
      "Total number of images avaliable for training: 50\n",
      "Entering training loop!\n",
      "/home/ohseunghwan/anaconda3/envs/soomgo/lib/python3.8/site-packages/torch/nn/functional.py:3734: UserWarning: nn.functional.upsample is deprecated. Use nn.functional.interpolate instead.\n",
      "  warnings.warn(\"nn.functional.upsample is deprecated. Use nn.functional.interpolate instead.\")\n",
      "'[step-00000000] [time-6.141] [total_loss-11.995481]  [loss0-1.710252]'\n",
      "results/training_cloth_segm_u2net_exp1/checkpoints/itr_00000000_u2net.pth\n",
      "'[step-00000010] [time-10.552] [total_loss-1.497265]  [loss0-0.213763]'\n",
      "^C\n"
     ]
    }
   ],
   "source": [
    "!python ./U2-net/train.py "
   ]
  },
  {
   "cell_type": "code",
   "execution_count": null,
   "metadata": {},
   "outputs": [],
   "source": []
  }
 ],
 "metadata": {
  "kernelspec": {
   "display_name": "soomgo",
   "language": "python",
   "name": "python3"
  },
  "language_info": {
   "codemirror_mode": {
    "name": "ipython",
    "version": 3
   },
   "file_extension": ".py",
   "mimetype": "text/x-python",
   "name": "python",
   "nbconvert_exporter": "python",
   "pygments_lexer": "ipython3",
   "version": "3.8.3"
  },
  "orig_nbformat": 4
 },
 "nbformat": 4,
 "nbformat_minor": 2
}
